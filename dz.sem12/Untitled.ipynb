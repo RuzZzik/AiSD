{
 "cells": [
  {
   "cell_type": "markdown",
   "id": "ac6154b7",
   "metadata": {},
   "source": [
    "При помощи стека (можно использовать любую реализацию стека, например, из лекции) проверить, что в строке, содержащей большой фрагмент кода на python, корректно открываются и закрываются скобки '(' и ')'. Заводить какие-либо счетчики и вообще вести подсчет скобок запрещено. \n",
    "Например, в следующей строке корректное количество скобок: \n",
    "'((dsasdas((das(d)das)d)asd)da)' \n",
    "А вот в следующей закрывающих больше, чем открывающих:\n",
    "'(f(gfhd((hgfdg((fghh)dads)das))ds)adddads())))' "
   ]
  },
  {
   "cell_type": "code",
   "execution_count": 3,
   "id": "3e3c505e",
   "metadata": {},
   "outputs": [
    {
     "name": "stdout",
     "output_type": "stream",
     "text": [
      "'((dsasdas((das(d)das)d)asd)da)'\n",
      "True\n"
     ]
    }
   ],
   "source": [
    "#задание 1\n",
    "stack = []\n",
    "s = input()\n",
    "open_s = '('\n",
    "close_s = ')'\n",
    "checker = {')' : '('}\n",
    "flag = True\n",
    "for i in s:\n",
    "    if i in open_s:\n",
    "        stack.append(i)\n",
    "    if i in close_s:\n",
    "        if len(stack) == 0:\n",
    "            flag = False\n",
    "            break\n",
    "        if checker[i] != stack[-1] :\n",
    "            flag = False\n",
    "            break\n",
    "        stack.pop()\n",
    "if len(stack):\n",
    "    flag = False\n",
    "print(flag)\n"
   ]
  },
  {
   "cell_type": "markdown",
   "id": "aa42f380",
   "metadata": {},
   "source": [
    "С помощью списка (list) реализовать стек. При создании стека нужно передать максимальную длину стека. В случае попытки добавления элемента, приводящего к превышению емкости стека возвращать ошибку. \n",
    "Стек должен поддерживать следующие операции: \n",
    "S.push(e): добавление элемента e на вершину стека S. \n",
    "S.pop(): удаляет и возвращает верхний элемент стека S. Если стек пуст, то возникает ошибка. \n",
    "S.top(): возвращает верхний элемент стека S, не удаляя его. Если стек пуст, то возникает ошибка. \n",
    "S.is_empty( ): возвращает True если стек S не содержит ни одного элемента. \n",
    "len(S): возвращает текущеее количество элементов в стеке S. \n"
   ]
  },
  {
   "cell_type": "code",
   "execution_count": 4,
   "id": "f4b58e27",
   "metadata": {},
   "outputs": [],
   "source": [
    "#задание 2\n",
    "class Stack:\n",
    "\n",
    "    def __init__(self, length):\n",
    "        self.max_len = length\n",
    "        self.stack = []\n",
    "\n",
    "    def push(self, elem):\n",
    "        if len(self.stack) < self.max_len:\n",
    "            self.stack.append(elem)\n",
    "        else:\n",
    "            raise IndexError('Превышена максимальная длина стека')\n",
    "\n",
    "    def is_empty(self):\n",
    "        if len(self.stack) == 0:\n",
    "            return True\n",
    "        else:\n",
    "            return False\n",
    "\n",
    "    def top(self):\n",
    "        if self.is_empty():\n",
    "            raise IndexError('Стек пустой')\n",
    "        return self.stack[-1]\n",
    "\n",
    "    def pop(self):\n",
    "        last = self.top()\n",
    "        self.stack.pop(-1)\n",
    "        return last\n",
    "\n",
    "    def __len__(self): #нельзя применить len() по опр. поэтому используем __len__\n",
    "        return len(self.stack)"
   ]
  },
  {
   "cell_type": "markdown",
   "id": "df4dd48d",
   "metadata": {},
   "source": [
    "Реализовать класс однонаправленного связанного списка.  \n",
    "\n",
    "Реализовать метод добавления элемента в начало списка.  \n"
   ]
  },
  {
   "cell_type": "code",
   "execution_count": 13,
   "id": "9505f054",
   "metadata": {},
   "outputs": [
    {
     "name": "stdout",
     "output_type": "stream",
     "text": [
      "1 -> 2 -> 3 -> None\n",
      "99 -> 8 -> 1 -> 2 -> 3 -> None\n"
     ]
    }
   ],
   "source": [
    "class Node:\n",
    "    def __init__(self, data):\n",
    "        self.next = None\n",
    "        self.data = data\n",
    "        \n",
    "    def append(self, val):\n",
    "        end = Node(val)\n",
    "        n = self\n",
    "        while (n.next):\n",
    "            n = n.next\n",
    "        n.next = end\n",
    "        \n",
    "    def insert_at_front(self, val):\n",
    "        new_node = Node(val)\n",
    "        new_node.next = self\n",
    "        return new_node\n",
    "\n",
    "    def display(self):\n",
    "        n = self\n",
    "        while n:\n",
    "            print(n.data, end=\" -> \")\n",
    "            n = n.next\n",
    "        print(\"None\")\n",
    "\n",
    "if __name__ == \"__main__\":\n",
    "    head = Node(1)\n",
    "    head.append(2)\n",
    "    head.append(3)\n",
    "    head.display()\n",
    "    head = head.insert_at_front(8)\n",
    "    head = head.insert_at_front(99)\n",
    "    head.display()"
   ]
  },
  {
   "cell_type": "markdown",
   "id": "6f591be9",
   "metadata": {},
   "source": [
    "На базе класса однонаправленного связанного списка реализовать двунаправленный связанный список. \n",
    "Реализовать метод добавления элемента в начало списка. "
   ]
  },
  {
   "cell_type": "code",
   "execution_count": 19,
   "id": "559d1b73",
   "metadata": {},
   "outputs": [
    {
     "name": "stdout",
     "output_type": "stream",
     "text": [
      "7\n",
      "5\n",
      "3\n"
     ]
    }
   ],
   "source": [
    "class Node:\n",
    "    def __init__(self, element: int, next = None, prev = None) -> None:\n",
    "        self.prev = prev\n",
    "        self.next = next\n",
    "        self.element = element\n",
    "\n",
    "class LinkedList:\n",
    "    def __init__(self, head = None, tail = None) -> None:\n",
    "        self.head = head\n",
    "        self.tail = tail\n",
    "    def append(self, element : int) -> None:\n",
    "        node = Node(element)\n",
    "        if not self.head:\n",
    "            self.head = node\n",
    "            self.tail = node\n",
    "        else:\n",
    "            node.next = self.head\n",
    "            self.head.prev = node\n",
    "            self.head = node\n",
    "    def output(self) -> None:\n",
    "        node = self.head\n",
    "        while node.next:\n",
    "            print(node.element)\n",
    "            node = node.next\n",
    "        print(node.element)\n",
    "www = LinkedList()\n",
    "www.append(3)\n",
    "www.append(5)\n",
    "www.append(7)\n",
    "www.output()"
   ]
  },
  {
   "cell_type": "markdown",
   "id": "818ec8da",
   "metadata": {},
   "source": [
    "При помощи класса связанного списка реализовать очередь."
   ]
  },
  {
   "cell_type": "code",
   "execution_count": 24,
   "id": "933c0fd3",
   "metadata": {},
   "outputs": [
    {
     "name": "stdout",
     "output_type": "stream",
     "text": [
      "1\n",
      "2\n",
      "3\n"
     ]
    }
   ],
   "source": [
    "class Node:\n",
    "    def __init__(self, value):\n",
    "        self.value = value\n",
    "        self.next = None\n",
    "\n",
    "class LinkedList:\n",
    "    def __init__(self):\n",
    "        self.head = None\n",
    "        self.tail = None\n",
    "\n",
    "    def enqueue(self, value):\n",
    "        node = Node(value)\n",
    "        if self.tail:\n",
    "            self.tail.next = node\n",
    "            self.tail = node\n",
    "        else:\n",
    "            self.head = node\n",
    "            self.tail = node\n",
    "\n",
    "    def dequeue(self):\n",
    "        if self.head:\n",
    "            value = self.head.value\n",
    "            self.head = self.head.next\n",
    "            if self.head is None:\n",
    "                self.tail = None\n",
    "            return value\n",
    "        else:\n",
    "            raise IndexError(\"Очередь пуста\")\n",
    "queue = LinkedList()\n",
    "queue.enqueue(1)\n",
    "queue.enqueue(2)\n",
    "queue.enqueue(3)\n",
    "\n",
    "print(queue.dequeue()) \n",
    "print(queue.dequeue())\n",
    "print(queue.dequeue())\n"
   ]
  },
  {
   "cell_type": "code",
   "execution_count": null,
   "id": "fbbedc2d",
   "metadata": {},
   "outputs": [],
   "source": []
  }
 ],
 "metadata": {
  "kernelspec": {
   "display_name": "Python 3 (ipykernel)",
   "language": "python",
   "name": "python3"
  },
  "language_info": {
   "codemirror_mode": {
    "name": "ipython",
    "version": 3
   },
   "file_extension": ".py",
   "mimetype": "text/x-python",
   "name": "python",
   "nbconvert_exporter": "python",
   "pygments_lexer": "ipython3",
   "version": "3.11.5"
  }
 },
 "nbformat": 4,
 "nbformat_minor": 5
}
