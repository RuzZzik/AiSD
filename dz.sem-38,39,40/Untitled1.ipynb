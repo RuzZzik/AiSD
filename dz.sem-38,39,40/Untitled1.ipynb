{
 "cells": [
  {
   "cell_type": "markdown",
   "id": "601230db",
   "metadata": {},
   "source": [
    "## ВАРИАНТ 5"
   ]
  },
  {
   "cell_type": "markdown",
   "id": "7b903e87",
   "metadata": {},
   "source": [
    "Необходимо отсортировать массив строк по длине и вывести результат на экран. В зависимости от переданного параметра отсортировать массив строк по возрастанию длины или по убыванию длины, используя алгоритмы сортировки: сортировку выбором, сортировку пузырьком и быструю сортировку. Сравнить время выполнения алгоритмов сортировки с помощью декоратора. Строки хранятся в файле."
   ]
  },
  {
   "cell_type": "code",
   "execution_count": null,
   "id": "65938e7c",
   "metadata": {},
   "outputs": [],
   "source": [
    "import time\n",
    "\n",
    "# Декоратор для измерения времени выполнения функции\n",
    "def timer(func):\n",
    "    def wrapper(*args, **kwargs):\n",
    "        start_time = time.time()\n",
    "        result = func(*args, **kwargs)\n",
    "        end_time = time.time()\n",
    "        print(f\"Время выполнения {func.__name__}: {end_time - start_time} секунд\")\n",
    "        return result\n",
    "    return wrapper\n",
    "\n",
    "# Функция для чтения строк из файла\n",
    "def read_strings_from_file(file_name):\n",
    "    with open(file_name, 'r') as file:\n",
    "        strings = [line.strip() for line in file]\n",
    "    return strings\n",
    "\n",
    "# Сортировка выбором\n",
    "@timer\n",
    "def selection_sort(strings, reverse=False):\n",
    "    strings.sort(key=len, reverse=reverse)\n",
    "    return strings\n",
    "\n",
    "# Сортировка пузырьком\n",
    "@timer\n",
    "def bubble_sort(strings, reverse=False):\n",
    "    n = len(strings)\n",
    "    for i in range(n):\n",
    "        for j in range(0, n-i-1):\n",
    "            if (len(strings[j]) > len(strings[j+1])) if not reverse else (len(strings[j]) < len(strings[j+1])):\n",
    "                strings[j], strings[j+1] = strings[j+1], strings[j]\n",
    "    return strings\n",
    "\n",
    "# Быстрая сортировка\n",
    "@timer\n",
    "def quick_sort(strings, reverse=False):\n",
    "    if not strings:\n",
    "        return []\n",
    "    else:\n",
    "        pivot = strings[0]\n",
    "        lesser = quick_sort([x for x in strings[1:] if (len(x) < len(pivot)) if not reverse else (len(x) > len(pivot))], reverse)\n",
    "        greater = quick_sort([x for x in strings[1:] if (len(x) >= len(pivot)) if not reverse else (len(x) <= len(pivot))], reverse)\n",
    "        return lesser + [pivot] + greater\n",
    "\n",
    "# Чтение строк из файла\n",
    "file_name = 'strings.txt'\n",
    "strings = read_strings_from_file(file_name)\n",
    "\n",
    "# Сортировка и вывод результатов\n",
    "print(\"Сортировка выбором:\")\n",
    "print(selection_sort(strings.copy()))\n",
    "print(\"\\nСортировка пузырьком:\")\n",
    "print(bubble_sort(strings.copy()))\n",
    "print(\"\\nБыстрая сортировка:\")\n",
    "print(quick_sort(strings.copy()))"
   ]
  },
  {
   "cell_type": "markdown",
   "id": "e12297bb",
   "metadata": {},
   "source": [
    "Реализовать класс бинарного дерева. Написать функцию для нахождения наибольшей глубины листьев в бинарном дереве."
   ]
  },
  {
   "cell_type": "code",
   "execution_count": 2,
   "id": "6966d1a8",
   "metadata": {},
   "outputs": [
    {
     "name": "stdout",
     "output_type": "stream",
     "text": [
      "3\n"
     ]
    }
   ],
   "source": [
    "class Node:\n",
    "    def __init__(self, value):\n",
    "        self.value = value\n",
    "        self.left = None\n",
    "        self.right = None\n",
    "\n",
    "\n",
    "def max_depth(root):\n",
    "    if root is None:\n",
    "        return 0\n",
    "\n",
    "    left_depth = max_depth(root.left)\n",
    "    right_depth = max_depth(root.right)\n",
    "\n",
    "    return max(left_depth, right_depth) + 1\n",
    "\n",
    "\n",
    "# Пример использования\n",
    "\n",
    "root = Node(1)\n",
    "root.left = Node(2)\n",
    "root.right = Node(3)\n",
    "root.left.left = Node(4)\n",
    "root.left.right = Node(5)\n",
    "\n",
    "print(max_depth(root))"
   ]
  },
  {
   "cell_type": "markdown",
   "id": "321a2390",
   "metadata": {},
   "source": [
    "Создайте структуру данных «Top N», которая хранит  N  наибольших элементов из потока входных данных. Структура должна поддерживать операцию добавления нового элемента в поток и операцию извлечения одного из «Top N» элементов. Используйте для этого двоичную кучу."
   ]
  },
  {
   "cell_type": "code",
   "execution_count": 3,
   "id": "64eeebfc",
   "metadata": {},
   "outputs": [
    {
     "name": "stdout",
     "output_type": "stream",
     "text": [
      "[9, 7, 5]\n"
     ]
    }
   ],
   "source": [
    "import heapq\n",
    "\n",
    "class TopN:\n",
    "    def __init__(self, n):\n",
    "        self.n = n\n",
    "        self.heap = []\n",
    "\n",
    "    def add(self, element):\n",
    "        heapq.heappush(self.heap, element)\n",
    "        if len(self.heap) > self.n:\n",
    "            heapq.heappop(self.heap)\n",
    "\n",
    "    def get_top_n(self):\n",
    "        return heapq.nlargest(self.n, self.heap)\n",
    "\n",
    "\n",
    "# Пример использования\n",
    "\n",
    "top_n = TopN(3)\n",
    "top_n.add(5)\n",
    "top_n.add(2)\n",
    "top_n.add(7)\n",
    "top_n.add(1)\n",
    "top_n.add(9)\n",
    "\n",
    "print(top_n.get_top_n())  # [7, 5, 4]\n"
   ]
  },
  {
   "cell_type": "code",
   "execution_count": null,
   "id": "95106958",
   "metadata": {},
   "outputs": [],
   "source": []
  }
 ],
 "metadata": {
  "kernelspec": {
   "display_name": "Python 3 (ipykernel)",
   "language": "python",
   "name": "python3"
  },
  "language_info": {
   "codemirror_mode": {
    "name": "ipython",
    "version": 3
   },
   "file_extension": ".py",
   "mimetype": "text/x-python",
   "name": "python",
   "nbconvert_exporter": "python",
   "pygments_lexer": "ipython3",
   "version": "3.10.9"
  }
 },
 "nbformat": 4,
 "nbformat_minor": 5
}
