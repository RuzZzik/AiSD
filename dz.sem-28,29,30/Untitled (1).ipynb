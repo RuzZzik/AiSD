{
 "cells": [
  {
   "cell_type": "markdown",
   "id": "7cb54999",
   "metadata": {},
   "source": [
    "ВАРИАНТ 5"
   ]
  },
  {
   "cell_type": "markdown",
   "id": "bf45a089",
   "metadata": {},
   "source": [
    "№28\n",
    "а) Отфильтровать список целых чисел на чётные и нечётные числа с помощью лямбда-функции.\n",
    "б) Для удаления определённых слов из заданного списка используйте лямбда-функцию. Пример: дан список слов ['orange', 'red', 'green', 'blue', 'white', 'black'], удалить слова ['orange', 'black'] → ['red', 'green', 'blue', 'white'].\n",
    "в) Используя лямбда-функцию, проверить, отсортирован ли указанный список или нет."
   ]
  },
  {
   "cell_type": "code",
   "execution_count": 4,
   "id": "1420d7e8",
   "metadata": {},
   "outputs": [
    {
     "name": "stdout",
     "output_type": "stream",
     "text": [
      "Чётные числа: [2, 4, 6, 8, 10]\n",
      "Нечётные числа: [1, 3, 5, 5, 7, 9]\n"
     ]
    }
   ],
   "source": [
    "#ПУНКТ А\n",
    "nums = [1, 2, 3, 4, 5, 5, 6, 7, 8, 9, 10]\n",
    "\n",
    "even_nums = list(filter(lambda x: x % 2 == 0, nums)) #проверяем делится ли число на 2\n",
    "odd_nums = list(filter(lambda x: x % 2 != 0, nums)) #здесь проверка на неделимость на 2\n",
    "\n",
    "print(\"Чётные числа:\", even_nums)\n",
    "print(\"Нечётные числа:\", odd_nums)"
   ]
  },
  {
   "cell_type": "code",
   "execution_count": 6,
   "id": "2258a54f",
   "metadata": {},
   "outputs": [
    {
     "name": "stdout",
     "output_type": "stream",
     "text": [
      "Список слов после удаления: ['red', 'green', 'blue', 'white']\n"
     ]
    }
   ],
   "source": [
    "#ПУНКТ Б\n",
    "words = ['orange', 'red', 'green', 'blue', 'white', 'black']\n",
    "words_to_remove = ['orange', 'black']\n",
    "\n",
    "filtered_words = list(filter(lambda x: x not in words_to_remove, words)) #проверяем находится ли слово в списке\n",
    "\n",
    "print(\"Список слов после удаления:\", filtered_words)"
   ]
  },
  {
   "cell_type": "code",
   "execution_count": 8,
   "id": "b5b1acab",
   "metadata": {},
   "outputs": [
    {
     "name": "stdout",
     "output_type": "stream",
     "text": [
      "Список отсортирован.\n"
     ]
    }
   ],
   "source": [
    "#ПУНКТ В\n",
    "nums = [1, 3, 5, 7, 9]\n",
    "\n",
    "is_sorted = lambda lst: all(lst[i] <= lst[i + 1] for i in range(len(lst) - 1)) #сравниваем каждый элемент меньше ли он \n",
    "#или равен следующему и с помощью цикла фор от 0 до len(lst) - 1 посколько нам не нужно сравнивать элемент с последующим несущ.\n",
    "\n",
    "if is_sorted(nums):\n",
    "    print(\"Список отсортирован.\")\n",
    "else:\n",
    "    print(\"Список не отсортирован.\")"
   ]
  },
  {
   "cell_type": "markdown",
   "id": "a8a689fe",
   "metadata": {},
   "source": [
    "№29\n",
    "а) С помощью функции map() преобразуйте каждую строку из заданного списка строк в список символов. Пример: ['Red', 'Blue', 'Black', 'White', 'Pink'] → [['R', 'e', 'd'], ['B', 'l', 'u', 'e'], ['B', 'l', 'a', 'c', 'k'], ['W', 'h', 'i', 't', 'e'], ['P', 'i', 'n', 'k']].\n",
    "б) Сгенерировать список целых чисел. С помощью функции filter() выбрать из списка все числа больше заданного числа и упорядочить их по убыванию. Используя функцию reduce(), найти их произведение."
   ]
  },
  {
   "cell_type": "code",
   "execution_count": 12,
   "id": "1873de9a",
   "metadata": {},
   "outputs": [
    {
     "name": "stdout",
     "output_type": "stream",
     "text": [
      "[['R', 'e', 'd'], ['B', 'l', 'u', 'e'], ['B', 'l', 'a', 'c', 'k'], ['W', 'h', 'i', 't', 'e'], ['P', 'i', 'n', 'k']]\n"
     ]
    }
   ],
   "source": [
    "#ПУНКТ А\n",
    "lines = ['Red', 'Blue', 'Black', 'White', 'Pink']\n",
    "\n",
    "# Используем map() для преобразования каждой строки в список символов\n",
    "result = list(map(list, lines))\n",
    "\n",
    "print(result)"
   ]
  },
  {
   "cell_type": "code",
   "execution_count": 14,
   "id": "6e68a66c",
   "metadata": {},
   "outputs": [
    {
     "name": "stdout",
     "output_type": "stream",
     "text": [
      "Числа больше 10 и упорядоченные по убыванию: [20, 15, 12]\n",
      "Произведение этих чисел: 3600\n"
     ]
    }
   ],
   "source": [
    "#ПУНКТ Б\n",
    "from functools import reduce\n",
    "\n",
    "numbers = [5, 12, 8, 20, 3, 15, 7]\n",
    "\n",
    "num = 10\n",
    "\n",
    "# Функция для фильтрации чисел больше заданного числа и упорядочивания их по убыванию\n",
    "filtered_numbers = sorted(filter(lambda x: x > num, numbers), reverse=True)\n",
    "\n",
    "#Находим произведение отфильтрованных чисел с помощью функции reduce()\n",
    "multiplication = reduce(lambda x, y: x * y, filtered_numbers)\n",
    "\n",
    "# Вывести результат\n",
    "print(\"Числа больше\", num, \"и упорядоченные по убыванию:\", filtered_numbers)\n",
    "print(\"Произведение этих чисел:\", multiplication)"
   ]
  },
  {
   "cell_type": "markdown",
   "id": "ef067a69",
   "metadata": {},
   "source": [
    "№30\n",
    "а) Создайте декоратор, который будет выводить на экран количество вызовов функции за определенный период времени.\n",
    "б) Создайте декоратор, который будет принимать несколько аргументов и передавать их в функцию в качестве позиционных параметров с заданными значениями по умолчанию."
   ]
  },
  {
   "cell_type": "code",
   "execution_count": 16,
   "id": "85a66a45",
   "metadata": {},
   "outputs": [
    {
     "name": "stdout",
     "output_type": "stream",
     "text": [
      "Функция some_function вызвана 1 раз(а) за последние 4 секунд\n",
      "Вызов функции some_function\n",
      "Время выполнения функции: 1.000868558883667 секунд\n",
      "Функция some_function вызвана 2 раз(а) за последние 4 секунд\n",
      "Вызов функции some_function\n",
      "Время выполнения функции: 1.0002498626708984 секунд\n",
      "Функция some_function вызвана 3 раз(а) за последние 4 секунд\n",
      "Вызов функции some_function\n",
      "Время выполнения функции: 1.000631332397461 секунд\n"
     ]
    }
   ],
   "source": [
    "import time\n",
    "import functools\n",
    "\n",
    "def count_calls(period):\n",
    "    def decorator(func):\n",
    "        @functools.wraps(func)\n",
    "        def wrapper(*args, **kwargs):\n",
    "            wrapper.num_calls += 1\n",
    "            print(f\"Функция {func.__name__} вызвана {wrapper.num_calls} раз(а) за последние {period} секунд\")\n",
    "            start_time = time.time()\n",
    "            result = func(*args, **kwargs)\n",
    "            end_time = time.time()\n",
    "            print(f\"Время выполнения функции: {end_time - start_time} секунд\")\n",
    "            return result\n",
    "        wrapper.num_calls = 0\n",
    "        return wrapper\n",
    "    return decorator\n",
    "\n",
    "@count_calls(4)\n",
    "def some_function():\n",
    "    print(\"Вызов функции some_function\")\n",
    "    time.sleep(1)\n",
    "\n",
    "some_function()\n",
    "time.sleep(3)\n",
    "some_function()\n",
    "time.sleep(3)\n",
    "some_function()\n"
   ]
  },
  {
   "cell_type": "code",
   "execution_count": 22,
   "id": "df1f65cb",
   "metadata": {},
   "outputs": [
    {
     "name": "stdout",
     "output_type": "stream",
     "text": [
      "10 20 30\n"
     ]
    }
   ],
   "source": [
    "def with_defaults(**defaults):\n",
    "    def decorator(func):\n",
    "        @functools.wraps(func)\n",
    "        def wrapper(*args, **kwargs):\n",
    "            # Заполняем недостающие аргументы значениями по умолчанию\n",
    "            for key, value in defaults.items():\n",
    "                if key not in kwargs:\n",
    "                    kwargs[key] = value\n",
    "\n",
    "            # Вызываем исходную функцию с заполненными аргументами\n",
    "            return func(*args, **kwargs)\n",
    "        return wrapper\n",
    "    return decorator\n",
    "@with_defaults(x=10, y=20)\n",
    "def some_function(x, y, z):\n",
    "    print(x, y, z)\n",
    "some_function(z=30)\n"
   ]
  }
 ],
 "metadata": {
  "kernelspec": {
   "display_name": "Python 3 (ipykernel)",
   "language": "python",
   "name": "python3"
  },
  "language_info": {
   "codemirror_mode": {
    "name": "ipython",
    "version": 3
   },
   "file_extension": ".py",
   "mimetype": "text/x-python",
   "name": "python",
   "nbconvert_exporter": "python",
   "pygments_lexer": "ipython3",
   "version": "3.10.9"
  }
 },
 "nbformat": 4,
 "nbformat_minor": 5
}
