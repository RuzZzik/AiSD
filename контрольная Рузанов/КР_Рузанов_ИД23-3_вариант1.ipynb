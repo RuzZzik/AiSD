{
 "cells": [
  {
   "cell_type": "markdown",
   "metadata": {},
   "source": [
    "### Контрольная работа № 1.\n",
    "### Вариант 1.\n",
    "#### Студент - Рузанов Александр Сергеевич, группа - ИД23-3"
   ]
  },
  {
   "cell_type": "markdown",
   "metadata": {},
   "source": [
    "1. Создайте класс Length (Длина), имеющий свойства\n",
    "\n",
    "• value (значение),\n",
    "\n",
    "• unit (единица измерения).\n",
    "\n",
    "При изменении единицы измерения значение должно соответственно меняться. Например, при переходе от сантиметров к метрам значение должно уменьшаться в 100 раз. Допустимые значения свойства unit: ‘см’, ‘м’, ‘км’. Организуйте эту проверку. Продемонстрируйте работу с классом."
   ]
  },
  {
   "cell_type": "code",
   "execution_count": 56,
   "metadata": {},
   "outputs": [
    {
     "name": "stdout",
     "output_type": "stream",
     "text": [
      "1000 см\n",
      "10.0 м\n",
      "5 м\n",
      "0.005 км\n",
      "25 км\n",
      "2500000 см\n"
     ]
    }
   ],
   "source": [
    "# Решение 1.\n",
    "class Length:\n",
    "    def __init__(self, value, unit):\n",
    "        self.value = value\n",
    "        self.unit = unit\n",
    "        \n",
    "    def convert_to_meters(self): #функция для метра\n",
    "        if self.unit == 'см':\n",
    "            self.value /= 100\n",
    "            self.unit = 'м'\n",
    "        elif self.unit == 'км':\n",
    "            self.value *= 1000\n",
    "            self.unit = 'м'\n",
    "    \n",
    "    def convert_to_centimeters(self): #функция для сантиметра\n",
    "        if self.unit == 'м':\n",
    "            self.value *= 100\n",
    "            self.unit = 'см'\n",
    "        elif self.unit == 'км':\n",
    "            self.value *= 100000\n",
    "            self.unit = 'см'\n",
    "    \n",
    "    def convert_to_kilometers(self): #функция для километра\n",
    "        if self.unit == 'см':\n",
    "            self.value /= 100000\n",
    "            self.unit = 'км'\n",
    "        elif self.unit == 'м':\n",
    "            self.value /= 1000\n",
    "            self.unit = 'км'\n",
    "    \n",
    "    def __str__(self):\n",
    "        return f'{self.value} {self.unit}'\n",
    "    \n",
    "l1 = Length(1000, 'см') #задаем начальное значение единицы измерения и после конвертируем в метры\n",
    "print(l1)\n",
    "\n",
    "l1.convert_to_meters()\n",
    "print(l1)\n",
    "\n",
    "l2 = Length(5, 'м') #задаем начальное значение единицы измерения и после конвертируем в километры\n",
    "print(l2)\n",
    "\n",
    "l2.convert_to_kilometers()\n",
    "print(l2)\n",
    "\n",
    "l3 = Length(25, 'км') #задаем начальное значение единицы измерения и после конвертируем в сантиметры\n",
    "print(l3)\n",
    "\n",
    "l3.convert_to_centimeters()\n",
    "print(l3)"
   ]
  },
  {
   "cell_type": "markdown",
   "metadata": {},
   "source": [
    "2. Создайте класс Ведомость, имеющий\n",
    "атрибут класса:\n",
    "\n",
    "• список_дисциплин (значением является список с названиями дисциплин);\n",
    "\n",
    "свойства:\n",
    "\n",
    "• дисциплина (при задании значения проверять наличие дисциплины в атрибуте список_дисциплин),\n",
    "\n",
    "• группа;\n",
    "\n",
    "методы:\n",
    "\n",
    "• put – добавляет в ведомость информацию об оценке студента (фамилия, оценка – параметры метода). Для хранения данных внутри класса используйте словарь, в котором ключом является фамилия студента. Возможные оценки – «отлично», «хорошо», «удовл.», «неудовл.», «н/я»;\n",
    "\n",
    "• get – возвращает оценку, полученную студентом (фамилия студента – параметр метода);\n",
    "\n",
    "• change – изменяет оценку, полученную студентом (фамилия студента и новая оценка – параметры метода);\n",
    "\n",
    "• del – удаляет информацию о студенте из ведомости (фамилия студента – параметр метода);\n",
    "\n",
    "• result – возвращает кортеж из 5 чисел (количество каждого вида оценок в ведомости);\n",
    "\n",
    "• __init__ – конструктор;\n",
    "\n",
    "• __str__ – возвращает строку, содержащую заголовки (название экзамена, группа) и результаты экзамена в виде таблицы;\n",
    "\n",
    "• count – возвращает количество студентов в ведомости;\n",
    "\n",
    "• names – возвращает список фамилий, имеющихся в ведомости.\n",
    "\n",
    "Продемонстрируйте работу с классом. \n"
   ]
  },
  {
   "cell_type": "code",
   "execution_count": 57,
   "metadata": {},
   "outputs": [
    {
     "name": "stdout",
     "output_type": "stream",
     "text": [
      "Exam: Algebra and analysis, Group: ID23-3\n",
      "Surname\t\tGrade\n",
      "Ruzanov\t\texcellent\n",
      "Matevosov\t\tgood\n",
      "Serov\t\tsatisfactory\n",
      "Khazanova\t\tgood\n",
      "\n",
      "Number of students in the statement: 4\n",
      "List of students: ['Ruzanov', 'Matevosov', 'Serov', 'Khazanova']\n",
      "Exam results: (1, 2, 1, 0, 0)\n",
      "Exam: Algebra and analysis, Group: ID23-3\n",
      "Surname\t\tGrade\n",
      "Ruzanov\t\texcellent\n",
      "Matevosov\t\tgood\n",
      "Serov\t\tsatisfactory\n",
      "Khazanova\t\texcellent\n",
      "\n",
      "Exam results: (2, 1, 1, 0, 0)\n",
      "Exam: Algebra and analysis, Group: ID23-3\n",
      "Surname\t\tGrade\n",
      "Ruzanov\t\texcellent\n",
      "Matevosov\t\tgood\n",
      "Khazanova\t\texcellent\n",
      "\n",
      "Результаты экзамена: (2, 1, 0, 0, 0)\n"
     ]
    }
   ],
   "source": [
    "# Решение 2.\n",
    "class Statement:\n",
    "    subjects_list = ['Algebra and analysis', 'Information Technologies']\n",
    "\n",
    "    def __init__(self, subject, group):\n",
    "        self.subject = subject #предмет(дисциплина)\n",
    "        self.group = group #группа\n",
    "        self.grades = {} #оценки\n",
    "\n",
    "    def put(self, surname, grade): #функция которая добавляет инфу о студенте\n",
    "        if grade in ['excellent', 'good', 'satisfactory', 'unsatisfactory', 'n/a']:\n",
    "            self.grades[surname] = grade\n",
    "        else:\n",
    "            print(\"Incorrect grade\")\n",
    "\n",
    "    def get(self, surname): #функция которая возвращает оценку\n",
    "        return self.grades.get(surname)\n",
    "\n",
    "    def change(self, surname, new_grade): #функция которая изменяет оценку\n",
    "        if new_grade in ['excellent', 'good', 'satisfactory', 'unsatisfactory', 'n/a']:\n",
    "            self.grades[surname] = new_grade\n",
    "        else:\n",
    "            print(\"Incorrect grade\")\n",
    "\n",
    "    def delete(self, surname): #функция удаляет информацию о студенте\n",
    "        del self.grades[surname]\n",
    "\n",
    "    def result(self): #возвращает кортеж из 5 чисел, где указано кол-во полученных оценок у всех студентов по конкретному числу\n",
    "        excellent = list(self.grades.values()).count('excellent')\n",
    "        good = list(self.grades.values()).count('good')\n",
    "        satisfactory = list(self.grades.values()).count('satisfactory')\n",
    "        unsatisfactory = list(self.grades.values()).count('unsatisfactory')\n",
    "        n_a = list(self.grades.values()).count('n/a')\n",
    "        return (excellent, good, satisfactory, unsatisfactory, n_a)\n",
    "\n",
    "    def __str__(self): #возвращает строку, содержащую заголовки\n",
    "        res = f\"Exam: {self.subject}, Group: {self.group}\\n\"\n",
    "        res += \"Surname\\t\\tGrade\\n\"\n",
    "        for surname, grade in self.grades.items():\n",
    "            res += f\"{surname}\\t\\t{grade}\\n\"\n",
    "        return res\n",
    "\n",
    "    def count(self): #возвращает кол-во студентов в ведомости\n",
    "        return len(self.grades)\n",
    "\n",
    "    def names(self): #возвращает списой фамилий, находящихся в ведомости\n",
    "        return list(self.grades.keys())\n",
    "\n",
    "\n",
    "statement = Statement('Algebra and analysis', 'ID23-3')\n",
    "statement.put('Ruzanov', 'excellent')\n",
    "statement.put('Matevosov', 'good')\n",
    "statement.put('Serov', 'satisfactory')\n",
    "statement.put('Khazanova', 'good')\n",
    "print(statement)\n",
    "print(\"Number of students in the statement:\", statement.count())\n",
    "print(\"List of students:\", statement.names())\n",
    "print(\"Exam results:\", statement.result())\n",
    "statement.change('Khazanova', 'excellent')\n",
    "print(statement)\n",
    "print(\"Exam results:\", statement.result())\n",
    "statement.delete('Serov')\n",
    "print(statement)\n",
    "print('Результаты экзамена:', statement.result())"
   ]
  },
  {
   "cell_type": "markdown",
   "metadata": {},
   "source": [
    "3. Создайте класс Заказ(Order), у которого есть свойства код_товара(code), цена(price), количество(count) и методы __init__ и __str__.\n",
    "\n",
    "Создайте 2 класса-потомка: Опт(Opt) и Розница(Retail).\n",
    "В этих классах создайте методы __init__, __str__.и сумма_заказа(summa), позволяющий узнать стоимость заказа.\n",
    "Для опта стоимость единицы товара составляет 95% от цены, а при покупке более 500 штук – 90% цены.\n",
    "В розницу стоимость единицы товара составляет 100% цены. Стоимость заказа равна произведению цены на количество. \n",
    "\n",
    "Продемонстрируйте работу с классами, создав необходимые объекты и обратившись к их свойствам и методам\n"
   ]
  },
  {
   "cell_type": "code",
   "execution_count": 58,
   "metadata": {},
   "outputs": [
    {
     "name": "stdout",
     "output_type": "stream",
     "text": [
      "Opt Order - Code: 666, Price: 100, Count: 600\n",
      "Total cost of Opt order: 54000.0\n",
      "Retail Order - Code: 777, Price: 500, Count: 10\n",
      "Total cost of Retail order: 5000\n"
     ]
    }
   ],
   "source": [
    "# Решение 3.\n",
    "class Order:\n",
    "    def __init__(self, code, price, count):\n",
    "        self.code = code #код\n",
    "        self.price = price #цена\n",
    "        self.count = count #кол-во\n",
    "\n",
    "    def __str__(self):\n",
    "        return f\"Code: {self.code}, Price: {self.price}, Count: {self.count}\"\n",
    "\n",
    "class Opt(Order): #опт\n",
    "    def __init__(self, code, price, count):\n",
    "        super().__init__(code, price, count)\n",
    "\n",
    "    def summa(self):\n",
    "        if self.count > 500:\n",
    "            return self.price * self.count * 0.9 #цена если больше 500 штук\n",
    "        else:\n",
    "            return self.price * self.count * 0.95\n",
    "\n",
    "    def __str__(self):\n",
    "        return f\"Opt Order - {super().__str__()}\"\n",
    "\n",
    "class Retail(Order): #не опт\n",
    "    def __init__(self, code, price, count):\n",
    "        super().__init__(code, price, count)\n",
    "\n",
    "    def summa(self):\n",
    "        return self.price * self.count\n",
    "\n",
    "    def __str__(self):\n",
    "        return f\"Retail Order - {super().__str__()}\"\n",
    "\n",
    "opt_order = Opt('666', 100, 600) #здесь вводим цену и кол-во\n",
    "retail_order = Retail('777', 500, 10)\n",
    "print(opt_order)\n",
    "print(\"Total cost of Opt order:\", opt_order.summa())\n",
    "\n",
    "print(retail_order)\n",
    "print(\"Total cost of Retail order:\", retail_order.summa())"
   ]
  },
  {
   "cell_type": "markdown",
   "metadata": {},
   "source": [
    "4. Написать функцию my_func_1(lst), которая переворачивает список вложенных списков с произвольным уровнем вложенности.\n",
    "Любой элемент, не являющийся списком, не должен быть изменен.\n",
    "\n",
    "Примеры, демонстрирующие ожидаемое поведение функции:\n",
    "\n",
    "assert my_func_1(42) == 42\n",
    "\n",
    "assert my_func_1([]) == []\n",
    "\n",
    "assert my_func_1([1, 2]) == [2, 1]\n",
    "\n",
    "assert my_func_1((1, 2)) == (1, 2)\n",
    "\n",
    "assert my_func_1([[1, 2], [3, [4, 5]], 6]) == [6, [[5, 4], 3], [2, 1]]\n",
    "\n",
    "assert my_func_1(['123', '456', '789', {10: [11, 12], 13: 14}, (15, 16)]) == [(15, 16), {10: [11, 12], 13: 14}, '789', '456', '123']\n",
    "\n",
    "assert my_func_1([[[[[1, 2]]]]]) == [[[[[2, 1]]]]]"
   ]
  },
  {
   "cell_type": "code",
   "execution_count": 59,
   "metadata": {},
   "outputs": [
    {
     "name": "stdout",
     "output_type": "stream",
     "text": [
      "42\n",
      "[]\n",
      "[2, 1]\n",
      "(1, 2)\n",
      "[6, [[5, 4], 3], [2, 1]]\n",
      "[(15, 16), {10: [11, 12], 13: 14}, '789', '456', '123']\n",
      "[[[[[2, 1]]]]]\n"
     ]
    }
   ],
   "source": [
    "# Решение 4.\n",
    "def my_func_1(lst):\n",
    "    if not isinstance(lst,list):\n",
    "        return lst\n",
    "    n_lst = []\n",
    "    for sub_element in lst:\n",
    "        n_lst.append(my_func_1(sub_element))\n",
    "    n_lst = n_lst[::-1]\n",
    "    return n_lst\n",
    "    \n",
    "print(my_func_1(42))\n",
    "print(my_func_1([]))\n",
    "print(my_func_1([1,2]))\n",
    "print(my_func_1((1,2)))\n",
    "print(my_func_1([[1, 2], [3, [4, 5]], 6]))\n",
    "print(my_func_1(['123', '456', '789', {10: [11, 12], 13: 14}, (15, 16)]))\n",
    "print(my_func_1([[[[[1, 2]]]]]))"
   ]
  },
  {
   "cell_type": "markdown",
   "metadata": {},
   "source": [
    "5.При помощи механизма map/filter/reduce возвести в квадрат числа от 1 до 100, и рассчитать их сумму, не включая в сумму числа, кратные 9. Написать реализацию в одну строку."
   ]
  },
  {
   "cell_type": "code",
   "execution_count": 60,
   "metadata": {},
   "outputs": [
    {
     "name": "stdout",
     "output_type": "stream",
     "text": [
      "225589\n"
     ]
    },
    {
     "data": {
      "text/plain": [
       "225589"
      ]
     },
     "execution_count": 60,
     "metadata": {},
     "output_type": "execute_result"
    }
   ],
   "source": [
    "# Решение 5.\n",
    "#решение в одну строку\n",
    "print(__import__('functools').reduce(lambda x, y: x + y, list(filter(lambda x: x % 9 != 0, list(map(lambda x: x**2, range(1, 101)))))))\n",
    "\n",
    "#для удобства проще импортировать, непонятно можно ли это делать по заданию\n",
    "#второй вариант, просто с импортом отдельно\n",
    "from functools import reduce\n",
    "reduce(lambda x, y: x + y, list(filter(lambda x: x % 9 != 0, list(map(lambda x: x**2, range(1, 101))))))\n"
   ]
  }
 ],
 "metadata": {
  "kernelspec": {
   "display_name": "Python 3 (ipykernel)",
   "language": "python",
   "name": "python3"
  },
  "language_info": {
   "codemirror_mode": {
    "name": "ipython",
    "version": 3
   },
   "file_extension": ".py",
   "mimetype": "text/x-python",
   "name": "python",
   "nbconvert_exporter": "python",
   "pygments_lexer": "ipython3",
   "version": "3.10.9"
  }
 },
 "nbformat": 4,
 "nbformat_minor": 4
}
