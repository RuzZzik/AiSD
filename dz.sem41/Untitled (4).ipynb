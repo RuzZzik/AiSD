{
 "cells": [
  {
   "cell_type": "markdown",
   "id": "4b1c8e17",
   "metadata": {},
   "source": [
    "а) Создать класс «Книга» с полями «Название», «Автор», «Год выпуска» и «Количество страниц». Создать хеш-таблицу для хранения объектов класса «Книга» по ключу — ISBN."
   ]
  },
  {
   "cell_type": "code",
   "execution_count": 20,
   "id": "1ba5b20d",
   "metadata": {},
   "outputs": [],
   "source": [
    "class Book:\n",
    "    def __init__(self, title, author, year, num_pages):\n",
    "        self.title = title\n",
    "        self.author = author\n",
    "        self.year = year\n",
    "        self.num_pages = num_pages\n",
    "\n",
    "# Создание хеш-таблицы для хранения объектов класса \"Книга\" по ключу — ISBN\n",
    "book_table = {}\n",
    "\n",
    "# Добавление книг в хеш-таблицу\n",
    "book1 = Book(\"Война и мир\", \"Лев Толстой\", 1869, 1225)\n",
    "book_table['978-5-699-73510-0'] = book1\n",
    "book2 = Book(\"Преступление и наказание\", \"Федор Достоевский\", 1866, 1001)\n",
    "book_table['978-5-699-73511-0'] = book2\n",
    "book3 = Book(\"Приключение ЧИНАЗЕСА\", \"Писят Второй\", 2052, 52)\n",
    "book_table['978-5-699-73512-0'] = book3\n"
   ]
  },
  {
   "cell_type": "markdown",
   "id": "341f0be9",
   "metadata": {},
   "source": [
    "б) Написать функцию для нахождения количества элементов из хеш-таблицы, у которых значение больше заданного значения."
   ]
  },
  {
   "cell_type": "code",
   "execution_count": 21,
   "id": "9ac93b99",
   "metadata": {},
   "outputs": [
    {
     "name": "stdout",
     "output_type": "stream",
     "text": [
      "Количество книг с количеством страниц больше 1000: 2\n"
     ]
    }
   ],
   "source": [
    "def cnt_books(table, threshold):\n",
    "    count = 0\n",
    "    for book in table.values():\n",
    "        if book.num_pages > threshold:\n",
    "            count += 1\n",
    "    return count\n",
    "\n",
    "threshold = 1000\n",
    "result = cnt_books(book_table, threshold)\n",
    "print(f\"Количество книг с количеством страниц больше {threshold}: {result}\")\n"
   ]
  },
  {
   "cell_type": "markdown",
   "id": "33249eca",
   "metadata": {},
   "source": [
    "в) Реализуйте хеш-таблицу для хранения информации о товарах на складе. Ключом является штрих-код товара, значение — объект, содержащий информацию о товаре (название, количество, цена и т.д.). Используйте метод разрешения коллизий методом цепочек."
   ]
  },
  {
   "cell_type": "code",
   "execution_count": 16,
   "id": "9a21433b",
   "metadata": {},
   "outputs": [
    {
     "name": "stdout",
     "output_type": "stream",
     "text": [
      "Название товара: Телефон, количество: 100, цена: 500\n"
     ]
    }
   ],
   "source": [
    "class Product:\n",
    "    def __init__(self, name, quantity, price):\n",
    "        self.name = name\n",
    "        self.quantity = quantity\n",
    "        self.price = price\n",
    "\n",
    "class HashTable:\n",
    "    def __init__(self, size):\n",
    "        self.size = size\n",
    "        self.table = [[] for _ in range(size)]\n",
    "\n",
    "    def hash_function(self, key):\n",
    "        return sum([ord(char) for char in key]) % self.size\n",
    "\n",
    "    def insert(self, key, value):\n",
    "        index = self.hash_function(key)\n",
    "        self.table[index].append((key, value))\n",
    "\n",
    "    def get(self, key):\n",
    "        index = self.hash_function(key)\n",
    "        for item in self.table[index]:\n",
    "            if item[0] == key:\n",
    "                return item[1]\n",
    "        return None\n",
    "    \n",
    "product_table = HashTable(10)\n",
    "product1 = Product(\"Телефон\", 100, 500)\n",
    "product_table.insert(\"123456789\", product1)\n",
    "product2 = Product(\"Ноутбук\", 50, 1000)\n",
    "product_table.insert(\"987654321\", product2)\n",
    "\n",
    "#получаем информацию о товаре по его штрих-коду\n",
    "barcode = \"123456789\"\n",
    "result_product = product_table.get(barcode)\n",
    "if result_product:\n",
    "    print(f\"Название товара: {result_product.name}, количество: {result_product.quantity}, цена: {result_product.price}\")\n",
    "else:\n",
    "    print(\"Товар не найден\")"
   ]
  },
  {
   "cell_type": "code",
   "execution_count": null,
   "id": "40ef4bb6",
   "metadata": {},
   "outputs": [],
   "source": []
  }
 ],
 "metadata": {
  "kernelspec": {
   "display_name": "Python 3 (ipykernel)",
   "language": "python",
   "name": "python3"
  },
  "language_info": {
   "codemirror_mode": {
    "name": "ipython",
    "version": 3
   },
   "file_extension": ".py",
   "mimetype": "text/x-python",
   "name": "python",
   "nbconvert_exporter": "python",
   "pygments_lexer": "ipython3",
   "version": "3.10.9"
  }
 },
 "nbformat": 4,
 "nbformat_minor": 5
}
