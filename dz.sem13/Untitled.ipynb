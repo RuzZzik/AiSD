{
 "cells": [
  {
   "cell_type": "markdown",
   "id": "9af21263",
   "metadata": {},
   "source": [
    "    1. Реализовать простейший динамический массив, поддерживающий добавление элемента в конец массива при помощи метода append(e).\n",
    "    Также должны поддерживаться следующие операции:\n",
    "•\tизвлечение элемента по индексу;\n",
    "•\tустанавка нового значения по индексу;\n",
    "•\tполучение текущей длины массива.\n",
    "\n",
    "    1.1 Добавить реализацию удаления элемента из любого места массива и поддержку корректного вывода массива при помощи функции print"
   ]
  },
  {
   "cell_type": "code",
   "execution_count": 1,
   "id": "a6b328ac",
   "metadata": {},
   "outputs": [],
   "source": [
    "class Dynamic_Array():\n",
    "    def __init__(self):\n",
    "        self.array=[]\n",
    "    def append(self,elem):\n",
    "        return self.array.append(elem)\n",
    "    def elem_by_index(self,index):\n",
    "        return self.array[index]\n",
    "    def new_value(self,index,value):\n",
    "        self.array[index]=value\n",
    "    def __len__(self):\n",
    "        return len(self.array)\n",
    "    def delete_by_ind(self,index):\n",
    "        del self.array[index]\n",
    "    def __str__(self):\n",
    "        return str(self.array)"
   ]
  },
  {
   "cell_type": "code",
   "execution_count": 2,
   "id": "6959fb0e",
   "metadata": {},
   "outputs": [
    {
     "name": "stdout",
     "output_type": "stream",
     "text": [
      "[23, 11, 42, 69]\n"
     ]
    }
   ],
   "source": [
    "array=Dynamic_Array()\n",
    "array.append(23)\n",
    "array.append(11)\n",
    "array.append(42)\n",
    "array.append(69)\n",
    "print(array)"
   ]
  },
  {
   "cell_type": "code",
   "execution_count": 3,
   "id": "1de29ad3",
   "metadata": {},
   "outputs": [
    {
     "name": "stdout",
     "output_type": "stream",
     "text": [
      "69\n"
     ]
    }
   ],
   "source": [
    "print(array.elem_by_index(3))"
   ]
  },
  {
   "cell_type": "code",
   "execution_count": 4,
   "id": "487eaae7",
   "metadata": {},
   "outputs": [
    {
     "name": "stdout",
     "output_type": "stream",
     "text": [
      "[123, 11, 42, 69]\n"
     ]
    }
   ],
   "source": [
    "array.new_value(0,123)\n",
    "print(array)"
   ]
  },
  {
   "cell_type": "code",
   "execution_count": 5,
   "id": "2d8a3e2a",
   "metadata": {},
   "outputs": [
    {
     "name": "stdout",
     "output_type": "stream",
     "text": [
      "4\n"
     ]
    }
   ],
   "source": [
    "print(len(array))"
   ]
  },
  {
   "cell_type": "code",
   "execution_count": 7,
   "id": "eb49d99b",
   "metadata": {},
   "outputs": [
    {
     "name": "stdout",
     "output_type": "stream",
     "text": [
      "[123, 11, 42]\n"
     ]
    }
   ],
   "source": [
    "array.delete_by_ind(3)\n",
    "print(array)"
   ]
  },
  {
   "cell_type": "markdown",
   "id": "485494c9",
   "metadata": {},
   "source": [
    "2. Реализовать генератор, который возвращает значение поочередно извлекаемое из конца двух очередей (в качестве очереди используется deque из collections). Если очередь из которой извлекается элемент пуста - генератор заканчивает работу.\n"
   ]
  },
  {
   "cell_type": "code",
   "execution_count": 9,
   "id": "2cf9d2ae",
   "metadata": {},
   "outputs": [
    {
     "name": "stdout",
     "output_type": "stream",
     "text": [
      "8\n",
      "ru\n",
      "1\n",
      "cz\n",
      "23\n",
      "hh\n",
      "5\n"
     ]
    }
   ],
   "source": [
    "from collections import deque\n",
    "def genchik(q1, q2):\n",
    "    while len(q1) > 0 or len(q2) > 0:\n",
    "        if len(q1) > 0:\n",
    "            yield q1.pop()\n",
    "        if len(q2) > 0:\n",
    "            yield q2.pop()\n",
    "            \n",
    "q1 = deque([5, 23, 1, 8])\n",
    "q2 = deque(['hh', 'cz', 'ru'])\n",
    "\n",
    "gen = genchik(q1, q2)\n",
    "for value in gen:\n",
    "    print(value)"
   ]
  },
  {
   "cell_type": "markdown",
   "id": "04de30db",
   "metadata": {},
   "source": [
    "3. Реализовать классы с медодом action():\n",
    "а) Класс Pump - в методе action() извлекает очередное значение из генератора и помещает значение в очередь \n",
    "(очередь передается в конструктор).\n"
   ]
  },
  {
   "cell_type": "markdown",
   "id": "29c65b0c",
   "metadata": {},
   "source": [
    "b) Класс MultiAction - при вызове метода action() n раз вызвает метод action() класса, переданного в конструкторе. Число n также определяется в конструкторе."
   ]
  },
  {
   "cell_type": "markdown",
   "id": "b553c892",
   "metadata": {},
   "source": [
    "c) Класс MultiPump - в методе action() извлекает очередное значение из генератора и помещает значение в одну из очередей (очереди передается в конструкторе); очереди , в которые помещаются очередные значения, меняются по порядку."
   ]
  },
  {
   "cell_type": "code",
   "execution_count": 12,
   "id": "0cd5294a",
   "metadata": {},
   "outputs": [
    {
     "name": "stdout",
     "output_type": "stream",
     "text": [
      "deque([1, 3, 4, 5, 6])\n",
      "deque([2, 7])\n",
      "deque([])\n"
     ]
    }
   ],
   "source": [
    "from collections import deque\n",
    "\n",
    "class Pump:\n",
    "    def __init__(self, queue):\n",
    "        self.queue = queue\n",
    "    \n",
    "    def action(self, gen):\n",
    "        try:\n",
    "            value = next(gen)\n",
    "            self.queue.append(value)\n",
    "        except StopIteration:\n",
    "            pass\n",
    "\n",
    "class MultiAction:\n",
    "    def __init__(self, obj, n):\n",
    "        self.obj = obj\n",
    "        self.n = n\n",
    "    \n",
    "    def action(self, gen):\n",
    "        for _ in range(self.n):\n",
    "            self.obj.action(gen)\n",
    "\n",
    "class MultiPump:\n",
    "    def __init__(self, queues):\n",
    "        self.queues = queues\n",
    "        self.queue_index = 0\n",
    "    \n",
    "    def action(self, gen):\n",
    "        try:\n",
    "            value = next(gen)\n",
    "            self.queues[self.queue_index].append(value)\n",
    "            self.queue_index = (self.queue_index + 1) % len(self.queues)\n",
    "        except StopIteration:\n",
    "            pass\n",
    "\n",
    "def www():\n",
    "    for i in range(1, 8):\n",
    "        yield i\n",
    "\n",
    "q1 = deque()\n",
    "q2 = deque()\n",
    "q3 = deque()\n",
    "\n",
    "pump1 = Pump(q1)\n",
    "pump2 = Pump(q2)\n",
    "multi_pump = MultiPump([q1, q2, q3])\n",
    "\n",
    "gen = www()\n",
    "pump1.action(gen)\n",
    "pump2.action(gen)\n",
    "\n",
    "multi_act = MultiAction(pump1, 3)\n",
    "multi_act.action(gen)\n",
    "\n",
    "multi_pump.action(gen)\n",
    "multi_pump.action(gen)\n",
    "multi_pump.action(gen)\n",
    "multi_pump.action(gen)\n",
    "\n",
    "print(q1)\n",
    "print(q2)\n",
    "print(q3)"
   ]
  },
  {
   "cell_type": "markdown",
   "id": "f7b53a9b",
   "metadata": {},
   "source": [
    "4. При помощи GenFromQ, Pump реализовать систему опработки сообщений. Сообщения создаются генератором сообщений возвращающим случайным образорм одно из сообщений. Сообщения из трех генераторов закачиваются в три очереди при помощи классов Pump, далее при помощи GenFromQ и Pump объединяются в одну очередь и выводятся на экран (можно реализовать при помощи класса с action и вызываемого при помощи MultiPump)."
   ]
  },
  {
   "cell_type": "code",
   "execution_count": 14,
   "id": "0d4210e1",
   "metadata": {},
   "outputs": [
    {
     "name": "stdout",
     "output_type": "stream",
     "text": [
      "Important message\n",
      "Normal message\n",
      "Normal message\n"
     ]
    }
   ],
   "source": [
    "import random\n",
    "from collections import deque\n",
    "\n",
    "class GenFromQ:\n",
    "    def __init__(self, queues):\n",
    "        self.queues = queues\n",
    "    \n",
    "    def action(self, output_queue):\n",
    "        for queue in self.queues:\n",
    "            while queue:\n",
    "                output_queue.append(queue.popleft())\n",
    "\n",
    "class Pump:\n",
    "    def __init__(self, queue):\n",
    "        self.queue = queue\n",
    "    \n",
    "    def action(self, gen):\n",
    "        try:\n",
    "            value = next(gen)\n",
    "            self.queue.append(value)\n",
    "        except StopIteration:\n",
    "            pass\n",
    "\n",
    "# Генератор случайных сообщений\n",
    "def message_generator():\n",
    "    messages = [\"Important message\", \"Urgent message\", \"Normal message\"]\n",
    "    while True:\n",
    "        yield random.choice(messages)\n",
    "\n",
    "# Создаем три очереди\n",
    "queue1 = deque()\n",
    "queue2 = deque()\n",
    "queue3 = deque()\n",
    "output_queue = deque()\n",
    "\n",
    "# Создаем экземпляры классов Pump для каждой очереди\n",
    "pump1 = Pump(queue1)\n",
    "pump2 = Pump(queue2)\n",
    "pump3 = Pump(queue3)\n",
    "\n",
    "# Создаем экземпляр класса GenFromQ для объединения сообщений из разных очередей\n",
    "gen_from_q = GenFromQ([queue1, queue2, queue3])\n",
    "\n",
    "# Создаем генератор сообщений\n",
    "gen = message_generator()\n",
    "\n",
    "# Загружаем сообщения в очереди\n",
    "pump1.action(gen)\n",
    "pump2.action(gen)\n",
    "pump3.action(gen)\n",
    "\n",
    "# Объединяем сообщения из разных очередей в одну\n",
    "gen_from_q.action(output_queue)\n",
    "\n",
    "# Выводим сообщения на экран\n",
    "while output_queue:\n",
    "    print(output_queue.popleft())"
   ]
  },
  {
   "cell_type": "code",
   "execution_count": null,
   "id": "e16f038b",
   "metadata": {},
   "outputs": [],
   "source": []
  }
 ],
 "metadata": {
  "kernelspec": {
   "display_name": "Python 3 (ipykernel)",
   "language": "python",
   "name": "python3"
  },
  "language_info": {
   "codemirror_mode": {
    "name": "ipython",
    "version": 3
   },
   "file_extension": ".py",
   "mimetype": "text/x-python",
   "name": "python",
   "nbconvert_exporter": "python",
   "pygments_lexer": "ipython3",
   "version": "3.11.5"
  }
 },
 "nbformat": 4,
 "nbformat_minor": 5
}
